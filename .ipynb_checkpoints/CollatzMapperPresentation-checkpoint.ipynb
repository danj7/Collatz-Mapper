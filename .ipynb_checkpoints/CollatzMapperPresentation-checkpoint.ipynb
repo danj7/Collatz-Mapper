{
 "cells": [
  {
   "cell_type": "markdown",
   "metadata": {
    "slideshow": {
     "slide_type": "slide"
    }
   },
   "source": [
    "# Mapping the Collatz Conjecture\n",
    "\n",
    "## Daniel Jordán"
   ]
  },
  {
   "cell_type": "markdown",
   "metadata": {
    "slideshow": {
     "slide_type": "slide"
    }
   },
   "source": [
    "# Collatz Conjecture\n",
    "### (a.k.a. \"the $3x+1$ problem\")  \n",
    "  \n",
    "  \n",
    "\n",
    "* Named after german mathematician Lothar Collatz\n",
    "\n",
    "* Simple to explain, hard to proof\n",
    "\n",
    "> _Starting from any positive integer, if even **divide by 2**, else **multiply by 3 and add 1**. Repeating this process converges any such number to 1._"
   ]
  },
  {
   "cell_type": "markdown",
   "metadata": {
    "slideshow": {
     "slide_type": "fragment"
    }
   },
   "source": [
    "$\\Large\n",
    "\\begin{align*}\n",
    "x &= 8 \\rightarrow 4 \\rightarrow 2 \\rightarrow 1 \\\\\n",
    "x &= 3 \\rightarrow 10 \\rightarrow 5 \\rightarrow 16 \\rightarrow 8 \\rightarrow 4 \\rightarrow 2 \\rightarrow 1 \\\\\n",
    "x &= 17 \\rightarrow 52 \\rightarrow 26 \\rightarrow 13 \\rightarrow 40 \\rightarrow 20 \\rightarrow 10 \\cdots \\rightarrow 1\n",
    "\\end{align*}$"
   ]
  },
  {
   "cell_type": "markdown",
   "metadata": {
    "slideshow": {
     "slide_type": "slide"
    }
   },
   "source": [
    "## Generalized Collatz Problem\n",
    "\n",
    "> Starting from any positive integer, $x$,  \n",
    "> if $x/d$ is an *integer* then divide by $d$,  \n",
    "> else multiply by integer $a$ and add integer $b$.\n",
    "\n",
    "$\\Large\n",
    "\\begin{align*}\n",
    "&\\text{if d-even,} \\quad x \\leftarrow x/d \\\\\n",
    "\\quad \\\\\n",
    "&\\text{if d-odd,} \\quad x \\leftarrow ax + b\n",
    "\\end{align*}$"
   ]
  },
  {
   "cell_type": "markdown",
   "metadata": {
    "slideshow": {
     "slide_type": "slide"
    }
   },
   "source": [
    "# Convergence type: for all at same\n",
    "\n",
    "## Parameters: $a=3$, $b=3$, $d=3$\n",
    "--------------------------------    \n",
    "$\\Large\n",
    "\\begin{align*}\n",
    "x &= 3 \\rightarrow 1 \\rightarrow 6 \\rightarrow 2 \\rightarrow 9 \\rightarrow 3 \\rightarrow 1 \\\\\n",
    "x &= 4 \\rightarrow 15 \\rightarrow 5 \\rightarrow 18 \\rightarrow 6 \\rightarrow 2 \\rightarrow 9 \\rightarrow 3 \\rightarrow 1 \\\\\n",
    "x &= 17 \\rightarrow 54 \\rightarrow 18 \\rightarrow 6 \\rightarrow 2 \\rightarrow 9 \\rightarrow 3 \\rightarrow 1\n",
    "\\end{align*}$"
   ]
  },
  {
   "cell_type": "markdown",
   "metadata": {
    "slideshow": {
     "slide_type": "slide"
    }
   },
   "source": [
    "# Convergence type: for all at different\n",
    "\n",
    "## Parameters: $a=3$, $b=6$, $d=3$\n",
    "--------------------------------\n",
    "$\\Large\n",
    "\\begin{align*}\n",
    "x &= 3 \\rightarrow 1 \\rightarrow 9 \\rightarrow 3 \\rightarrow 1 \\\\\n",
    "x &= 4 \\rightarrow 18 \\rightarrow 6 \\rightarrow 2 \\rightarrow 12 \\rightarrow 4 \\\\\n",
    "x &= 17 \\rightarrow 57 \\rightarrow 19 \\rightarrow 63 \\rightarrow 21 \\rightarrow 7 \\cdots \\rightarrow 1\n",
    "\\end{align*}$"
   ]
  },
  {
   "cell_type": "markdown",
   "metadata": {
    "slideshow": {
     "slide_type": "slide"
    }
   },
   "source": [
    "# Convergence type: for some\n",
    "\n",
    "## Parameters: $a=2$, $b=-2$, $d=3$\n",
    "--------------------------------\n",
    "$\\Large\n",
    "\\begin{align*}\n",
    "x &= 3 \\rightarrow 1 \\rightarrow 0 \\\\\n",
    "x &= 11 \\rightarrow 20 \\rightarrow 38 \\rightarrow 74 \\rightarrow \\infty \\\\\n",
    "\\end{align*}$\n",
    "\n",
    "# Convergence type: for none\n",
    "\n",
    "## Parameters: $a=2$, $b= 3$, $d=3$\n",
    "--------------------------------\n",
    "$\\Large\n",
    "\\begin{align*}\n",
    "x &= any \\rightarrow \\infty \\\\\n",
    "\\end{align*}$"
   ]
  },
  {
   "cell_type": "markdown",
   "metadata": {
    "slideshow": {
     "slide_type": "slide"
    }
   },
   "source": [
    "# Collatz Map\n",
    "\n",
    "For any given divisor, the \"Collatz map\" will be a plane of coordinates $(a, b)$:\n",
    "\n",
    "|         |          |          |         |         |     |\n",
    "|:---    :|:    ----:|:---     :|:---    :|:    ---:|:---:|\n",
    "| (-3,-3) | (-2, -3) | (-1, -3) | (0, -3) | (1, -3) | ... |\n",
    "| (-3,-2) | (-2, -2) | (-1, -2) | (0, -2) | (1, -2) | ... |\n",
    "|  ...    |   ...    |   ...    |   ...    |   ...    |   ...    |"
   ]
  },
  {
   "cell_type": "code",
   "execution_count": 1,
   "metadata": {
    "slideshow": {
     "slide_type": "skip"
    }
   },
   "outputs": [],
   "source": [
    "import numpy as np\n",
    "import matplotlib.pyplot as plt\n",
    "import matplotlib.patches as mpatches"
   ]
  },
  {
   "cell_type": "code",
   "execution_count": 2,
   "metadata": {
    "slideshow": {
     "slide_type": "skip"
    }
   },
   "outputs": [],
   "source": [
    "def collatz_plotter(col_map, div = 0, cmap='inferno', legend=True):\n",
    "    \"\"\"\n",
    "    Plots the collatz map.\n",
    "\n",
    "    Parameters\n",
    "    ----------\n",
    "    colmap: numpy array\n",
    "        Contains the map.\n",
    "    div: int\n",
    "        Used as figure number and for filename if empty.\n",
    "    save_fig: boolean\n",
    "        Declares whether to save the figure or not.\n",
    "    savename: string\n",
    "        Name of the file where figure will be saved.\n",
    "    cmap: string or colormap\n",
    "        Set by default to 'inferno'.\n",
    "    \"\"\"\n",
    "    col_map = col_map.astype(int)\n",
    "    if div==0:\n",
    "        fig = plt.figure(figsize=(9,9))\n",
    "        div = ''\n",
    "    else:\n",
    "        fig = plt.figure(div, figsize=(9,9))\n",
    "    ax=fig.add_subplot(1,1,1)\n",
    "    values = np.unique(col_map)\n",
    "    image = plt.imshow(col_map, cmap=cmap)\n",
    "    colors = [image.cmap(image.norm(value)) for value in values]\n",
    "    labels = ['no convergence', 'convergence for some', 'convergence for all at diff', 'convergence for all at same']\n",
    "    patches = [mpatches.Patch(color=colors[i], label=labels[i]) for i in range(len(values))]\n",
    "    if legend:\n",
    "        plt.legend(handles=patches, bbox_to_anchor=(1.05, 1), loc=2, borderaxespad=0.)\n",
    "    if div!=0:\n",
    "        plt.title('divisor = '+str(div))\n",
    "    plt.axis('off')\n",
    "    plt.show()"
   ]
  },
  {
   "cell_type": "markdown",
   "metadata": {
    "slideshow": {
     "slide_type": "skip"
    }
   },
   "source": [
    "div 2"
   ]
  },
  {
   "cell_type": "code",
   "execution_count": 5,
   "metadata": {
    "slideshow": {
     "slide_type": "skip"
    }
   },
   "outputs": [],
   "source": [
    "# Setting up\n",
    "amax = 32\n",
    "bmax = 32\n",
    "div = 2\n",
    "\n",
    "a_range = np.arange(-amax, amax+1, dtype=object )\n",
    "b_range = np.arange(-bmax, bmax+1, dtype=object )\n",
    "\n",
    "a_map = np.tile(a_range, (len(b_range), 1))\n",
    "b_map = np.tile(b_range, (len(a_range), 1)).transpose()\n",
    "# np.tile(b_range[::-1], (len(a_range), 1)).transpose()\n",
    "\n",
    "n_max = 10"
   ]
  },
  {
   "cell_type": "code",
   "execution_count": 6,
   "metadata": {
    "slideshow": {
     "slide_type": "skip"
    }
   },
   "outputs": [],
   "source": [
    "collatz_mins_collected = []\n",
    "for n in range(1, n_max+1):\n",
    "    collatz_odd = np.full( (len(b_range), len(a_range)), n%div != 0, dtype=bool)\n",
    "    collatz_map = np.full( (len(b_range), len(a_range)), n, dtype=object )\n",
    "\n",
    "    # Pre-calculating stage\n",
    "    for _ in range(50):\n",
    "        collatz_odd[collatz_map%div == 0] = False\n",
    "        collatz_odd[collatz_map%div != 0] = True\n",
    "        collatz_map[~collatz_odd] /= div\n",
    "        collatz_map[collatz_odd] *= a_map[collatz_odd]\n",
    "        collatz_map[collatz_odd] += b_map[collatz_odd]\n",
    "\n",
    "    # Calculating stage 1\n",
    "    collatz_min1 = collatz_map.copy()\n",
    "    for _ in range(397):\n",
    "        collatz_odd[collatz_map%div == 0] = False\n",
    "        collatz_odd[collatz_map%div != 0] = True\n",
    "        collatz_map[~collatz_odd] /= div\n",
    "        collatz_map[collatz_odd] *= a_map[collatz_odd]\n",
    "        collatz_map[collatz_odd] += b_map[collatz_odd]\n",
    "        collatz_min1 = np.minimum(collatz_min1, collatz_map)\n",
    "\n",
    "    # Calculating stage 2\n",
    "    collatz_min2 = collatz_map.copy() + np.iinfo(np.int32).max\n",
    "    for _ in range(509):\n",
    "        collatz_odd[collatz_map%div == 0] = False\n",
    "        collatz_odd[collatz_map%div != 0] = True\n",
    "        collatz_map[~collatz_odd] /= div\n",
    "        collatz_map[collatz_odd] *= a_map[collatz_odd]\n",
    "        collatz_map[collatz_odd] += b_map[collatz_odd]\n",
    "        collatz_min2 = np.minimum(collatz_min2, collatz_map)\n",
    "\n",
    "    # Eliminating false convergences\n",
    "    collatz_min1[np.logical_or(\n",
    "        collatz_min1>=np.iinfo(np.int32).max, collatz_min1<=np.iinfo(np.int32).min\n",
    "    )] = np.inf\n",
    "\n",
    "    collatz_min2[np.logical_or(\n",
    "        collatz_min2>=np.iinfo(np.int32).max, collatz_min2<=np.iinfo(np.int32).min\n",
    "    )] = np.inf\n",
    "\n",
    "    #Comparing min matrices\n",
    "    collatz_min1[collatz_min1 != collatz_min2] = np.inf\n",
    "\n",
    "    # Collecting min matrices\n",
    "    collatz_mins_collected.append(collatz_min1)\n",
    "collatz_mins_collected = np.array(collatz_mins_collected)"
   ]
  },
  {
   "cell_type": "code",
   "execution_count": 7,
   "metadata": {
    "slideshow": {
     "slide_type": "skip"
    }
   },
   "outputs": [],
   "source": [
    "for b in range(len(b_range)):\n",
    "    for a in range(len(a_range)):\n",
    "        collset = set(collatz_mins_collected[:, b, a])\n",
    "        if len(collset) == 1:\n",
    "            if np.inf in collset:\n",
    "                collatz_map[b,a] = 0 # no convergence\n",
    "            else:\n",
    "                collatz_map[b,a] = 3 # convergence at unique\n",
    "        else:\n",
    "            if np.inf in collset:\n",
    "                collatz_map[b,a] = 1 # convergence for some\n",
    "            else:\n",
    "                collatz_map[b,a] = 2 # convergence at diff"
   ]
  },
  {
   "cell_type": "code",
   "execution_count": 14,
   "metadata": {
    "scrolled": false,
    "slideshow": {
     "slide_type": "slide"
    }
   },
   "outputs": [
    {
     "data": {
      "image/png": "[encoded data removed]",
      "text/plain": [
       "<Figure size 648x648 with 1 Axes>"
      ]
     },
     "metadata": {
      "needs_background": "light"
     },
     "output_type": "display_data"
    }
   ],
   "source": [
    "collatz_plotter(collatz_map, div)"
   ]
  },
  {
   "cell_type": "markdown",
   "metadata": {
    "slideshow": {
     "slide_type": "skip"
    }
   },
   "source": [
    "divisor 3"
   ]
  },
  {
   "cell_type": "code",
   "execution_count": 17,
   "metadata": {
    "scrolled": true,
    "slideshow": {
     "slide_type": "skip"
    }
   },
   "outputs": [
    {
     "name": "stderr",
     "output_type": "stream",
     "text": [
      "/home/daniel/anaconda3/lib/python3.7/site-packages/ipykernel_launcher.py:34: RuntimeWarning: overflow encountered in multiply\n",
      "/home/daniel/anaconda3/lib/python3.7/site-packages/ipykernel_launcher.py:31: RuntimeWarning: invalid value encountered in remainder\n",
      "/home/daniel/anaconda3/lib/python3.7/site-packages/ipykernel_launcher.py:32: RuntimeWarning: invalid value encountered in remainder\n",
      "/home/daniel/anaconda3/lib/python3.7/site-packages/ipykernel_launcher.py:41: RuntimeWarning: invalid value encountered in remainder\n",
      "/home/daniel/anaconda3/lib/python3.7/site-packages/ipykernel_launcher.py:42: RuntimeWarning: invalid value encountered in remainder\n",
      "/home/daniel/anaconda3/lib/python3.7/site-packages/ipykernel_launcher.py:44: RuntimeWarning: overflow encountered in multiply\n"
     ]
    }
   ],
   "source": [
    "# Setting up\n",
    "amax = 32\n",
    "bmax = 32\n",
    "div = 3\n",
    "\n",
    "a_range = np.arange(-amax, amax+1, dtype=object )\n",
    "b_range = np.arange(-bmax, bmax+1, dtype=object )\n",
    "\n",
    "a_map = np.tile(a_range, (len(b_range), 1))\n",
    "b_map = np.tile(b_range, (len(a_range), 1)).transpose()\n",
    "# np.tile(b_range[::-1], (len(a_range), 1)).transpose()\n",
    "\n",
    "n_max = 10\n",
    "\n",
    "collatz_mins_collected = []\n",
    "for n in range(1, n_max+1):\n",
    "    collatz_odd = np.full( (len(b_range), len(a_range)), n%div != 0, dtype=bool)\n",
    "    collatz_map = np.full( (len(b_range), len(a_range)), n, dtype=object )\n",
    "\n",
    "    # Pre-calculating stage\n",
    "    for _ in range(50):\n",
    "        collatz_odd[collatz_map%div == 0] = False\n",
    "        collatz_odd[collatz_map%div != 0] = True\n",
    "        collatz_map[~collatz_odd] /= div\n",
    "        collatz_map[collatz_odd] *= a_map[collatz_odd]\n",
    "        collatz_map[collatz_odd] += b_map[collatz_odd]\n",
    "\n",
    "    # Calculating stage 1\n",
    "    collatz_min1 = collatz_map.copy()\n",
    "    for _ in range(397):\n",
    "        collatz_odd[collatz_map%div == 0] = False\n",
    "        collatz_odd[collatz_map%div != 0] = True\n",
    "        collatz_map[~collatz_odd] /= div\n",
    "        collatz_map[collatz_odd] *= a_map[collatz_odd]\n",
    "        collatz_map[collatz_odd] += b_map[collatz_odd]\n",
    "        collatz_min1 = np.minimum(collatz_min1, collatz_map)\n",
    "\n",
    "    # Calculating stage 2\n",
    "    collatz_min2 = collatz_map.copy() + np.iinfo(np.int32).max\n",
    "    for _ in range(509):\n",
    "        collatz_odd[collatz_map%div == 0] = False\n",
    "        collatz_odd[collatz_map%div != 0] = True\n",
    "        collatz_map[~collatz_odd] /= div\n",
    "        collatz_map[collatz_odd] *= a_map[collatz_odd]\n",
    "        collatz_map[collatz_odd] += b_map[collatz_odd]\n",
    "        collatz_min2 = np.minimum(collatz_min2, collatz_map)\n",
    "\n",
    "    # Eliminating false convergences\n",
    "    collatz_min1[np.logical_or(\n",
    "        collatz_min1>=np.iinfo(np.int32).max, collatz_min1<=np.iinfo(np.int32).min\n",
    "    )] = np.inf\n",
    "\n",
    "    collatz_min2[np.logical_or(\n",
    "        collatz_min2>=np.iinfo(np.int32).max, collatz_min2<=np.iinfo(np.int32).min\n",
    "    )] = np.inf\n",
    "\n",
    "    #Comparing min matrices\n",
    "    collatz_min1[collatz_min1 != collatz_min2] = np.inf\n",
    "\n",
    "    # Collecting min matrices\n",
    "    collatz_mins_collected.append(collatz_min1)\n",
    "collatz_mins_collected = np.array(collatz_mins_collected)\n",
    "\n",
    "for b in range(len(b_range)):\n",
    "    for a in range(len(a_range)):\n",
    "        collset = set(collatz_mins_collected[:, b, a])\n",
    "        if len(collset) == 1:\n",
    "            if np.inf in collset:\n",
    "                collatz_map[b,a] = 0 # no convergence\n",
    "            else:\n",
    "                collatz_map[b,a] = 3 # convergence at unique\n",
    "        else:\n",
    "            if np.inf in collset:\n",
    "                collatz_map[b,a] = 1 # convergence for some\n",
    "            else:\n",
    "                collatz_map[b,a] = 2 # convergence at diff"
   ]
  },
  {
   "cell_type": "code",
   "execution_count": 18,
   "metadata": {
    "scrolled": false,
    "slideshow": {
     "slide_type": "slide"
    }
   },
   "outputs": [
    {
     "data": {
      "image/png": "[encoded data removed]",
      "text/plain": [
       "<Figure size 648x648 with 1 Axes>"
      ]
     },
     "metadata": {
      "needs_background": "light"
     },
     "output_type": "display_data"
    }
   ],
   "source": [
    "collatz_plotter(collatz_map, div)"
   ]
  },
  {
   "cell_type": "code",
   "execution_count": 19,
   "metadata": {
    "scrolled": true,
    "slideshow": {
     "slide_type": "skip"
    }
   },
   "outputs": [
    {
     "name": "stderr",
     "output_type": "stream",
     "text": [
      "/home/daniel/anaconda3/lib/python3.7/site-packages/ipykernel_launcher.py:34: RuntimeWarning: overflow encountered in multiply\n",
      "/home/daniel/anaconda3/lib/python3.7/site-packages/ipykernel_launcher.py:31: RuntimeWarning: invalid value encountered in remainder\n",
      "/home/daniel/anaconda3/lib/python3.7/site-packages/ipykernel_launcher.py:32: RuntimeWarning: invalid value encountered in remainder\n",
      "/home/daniel/anaconda3/lib/python3.7/site-packages/ipykernel_launcher.py:41: RuntimeWarning: invalid value encountered in remainder\n",
      "/home/daniel/anaconda3/lib/python3.7/site-packages/ipykernel_launcher.py:42: RuntimeWarning: invalid value encountered in remainder\n",
      "/home/daniel/anaconda3/lib/python3.7/site-packages/ipykernel_launcher.py:44: RuntimeWarning: overflow encountered in multiply\n"
     ]
    }
   ],
   "source": [
    "# Setting up\n",
    "amax = 32\n",
    "bmax = 32\n",
    "div = 5\n",
    "\n",
    "a_range = np.arange(-amax, amax+1, dtype=object )\n",
    "b_range = np.arange(-bmax, bmax+1, dtype=object )\n",
    "\n",
    "a_map = np.tile(a_range, (len(b_range), 1))\n",
    "b_map = np.tile(b_range, (len(a_range), 1)).transpose()\n",
    "# np.tile(b_range[::-1], (len(a_range), 1)).transpose()\n",
    "\n",
    "n_max = 10\n",
    "\n",
    "collatz_mins_collected = []\n",
    "for n in range(1, n_max+1):\n",
    "    collatz_odd = np.full( (len(b_range), len(a_range)), n%div != 0, dtype=bool)\n",
    "    collatz_map = np.full( (len(b_range), len(a_range)), n, dtype=object )\n",
    "\n",
    "    # Pre-calculating stage\n",
    "    for _ in range(50):\n",
    "        collatz_odd[collatz_map%div == 0] = False\n",
    "        collatz_odd[collatz_map%div != 0] = True\n",
    "        collatz_map[~collatz_odd] /= div\n",
    "        collatz_map[collatz_odd] *= a_map[collatz_odd]\n",
    "        collatz_map[collatz_odd] += b_map[collatz_odd]\n",
    "\n",
    "    # Calculating stage 1\n",
    "    collatz_min1 = collatz_map.copy()\n",
    "    for _ in range(397):\n",
    "        collatz_odd[collatz_map%div == 0] = False\n",
    "        collatz_odd[collatz_map%div != 0] = True\n",
    "        collatz_map[~collatz_odd] /= div\n",
    "        collatz_map[collatz_odd] *= a_map[collatz_odd]\n",
    "        collatz_map[collatz_odd] += b_map[collatz_odd]\n",
    "        collatz_min1 = np.minimum(collatz_min1, collatz_map)\n",
    "\n",
    "    # Calculating stage 2\n",
    "    collatz_min2 = collatz_map.copy() + np.iinfo(np.int32).max\n",
    "    for _ in range(509):\n",
    "        collatz_odd[collatz_map%div == 0] = False\n",
    "        collatz_odd[collatz_map%div != 0] = True\n",
    "        collatz_map[~collatz_odd] /= div\n",
    "        collatz_map[collatz_odd] *= a_map[collatz_odd]\n",
    "        collatz_map[collatz_odd] += b_map[collatz_odd]\n",
    "        collatz_min2 = np.minimum(collatz_min2, collatz_map)\n",
    "\n",
    "    # Eliminating false convergences\n",
    "    collatz_min1[np.logical_or(\n",
    "        collatz_min1>=np.iinfo(np.int32).max, collatz_min1<=np.iinfo(np.int32).min\n",
    "    )] = np.inf\n",
    "\n",
    "    collatz_min2[np.logical_or(\n",
    "        collatz_min2>=np.iinfo(np.int32).max, collatz_min2<=np.iinfo(np.int32).min\n",
    "    )] = np.inf\n",
    "\n",
    "    #Comparing min matrices\n",
    "    collatz_min1[collatz_min1 != collatz_min2] = np.inf\n",
    "\n",
    "    # Collecting min matrices\n",
    "    collatz_mins_collected.append(collatz_min1)\n",
    "collatz_mins_collected = np.array(collatz_mins_collected)\n",
    "\n",
    "for b in range(len(b_range)):\n",
    "    for a in range(len(a_range)):\n",
    "        collset = set(collatz_mins_collected[:, b, a])\n",
    "        if len(collset) == 1:\n",
    "            if np.inf in collset:\n",
    "                collatz_map[b,a] = 0 # no convergence\n",
    "            else:\n",
    "                collatz_map[b,a] = 3 # convergence at unique\n",
    "        else:\n",
    "            if np.inf in collset:\n",
    "                collatz_map[b,a] = 1 # convergence for some\n",
    "            else:\n",
    "                collatz_map[b,a] = 2 # convergence at diff"
   ]
  },
  {
   "cell_type": "code",
   "execution_count": 20,
   "metadata": {
    "scrolled": false,
    "slideshow": {
     "slide_type": "slide"
    }
   },
   "outputs": [
    {
     "data": {
      "image/png": "[encoded data removed]",
      "text/plain": [
       "<Figure size 648x648 with 1 Axes>"
      ]
     },
     "metadata": {
      "needs_background": "light"
     },
     "output_type": "display_data"
    }
   ],
   "source": [
    "collatz_plotter(collatz_map, div)"
   ]
  },
  {
   "cell_type": "code",
   "execution_count": 21,
   "metadata": {
    "scrolled": true,
    "slideshow": {
     "slide_type": "skip"
    }
   },
   "outputs": [
    {
     "name": "stderr",
     "output_type": "stream",
     "text": [
      "/home/daniel/anaconda3/lib/python3.7/site-packages/ipykernel_launcher.py:34: RuntimeWarning: overflow encountered in multiply\n",
      "/home/daniel/anaconda3/lib/python3.7/site-packages/ipykernel_launcher.py:31: RuntimeWarning: invalid value encountered in remainder\n",
      "/home/daniel/anaconda3/lib/python3.7/site-packages/ipykernel_launcher.py:32: RuntimeWarning: invalid value encountered in remainder\n",
      "/home/daniel/anaconda3/lib/python3.7/site-packages/ipykernel_launcher.py:41: RuntimeWarning: invalid value encountered in remainder\n",
      "/home/daniel/anaconda3/lib/python3.7/site-packages/ipykernel_launcher.py:42: RuntimeWarning: invalid value encountered in remainder\n",
      "/home/daniel/anaconda3/lib/python3.7/site-packages/ipykernel_launcher.py:44: RuntimeWarning: overflow encountered in multiply\n"
     ]
    }
   ],
   "source": [
    "# Setting up\n",
    "amax = 32\n",
    "bmax = 32\n",
    "div = 7\n",
    "\n",
    "a_range = np.arange(-amax, amax+1, dtype=object )\n",
    "b_range = np.arange(-bmax, bmax+1, dtype=object )\n",
    "\n",
    "a_map = np.tile(a_range, (len(b_range), 1))\n",
    "b_map = np.tile(b_range, (len(a_range), 1)).transpose()\n",
    "# np.tile(b_range[::-1], (len(a_range), 1)).transpose()\n",
    "\n",
    "n_max = 10\n",
    "\n",
    "collatz_mins_collected = []\n",
    "for n in range(1, n_max+1):\n",
    "    collatz_odd = np.full( (len(b_range), len(a_range)), n%div != 0, dtype=bool)\n",
    "    collatz_map = np.full( (len(b_range), len(a_range)), n, dtype=object )\n",
    "\n",
    "    # Pre-calculating stage\n",
    "    for _ in range(50):\n",
    "        collatz_odd[collatz_map%div == 0] = False\n",
    "        collatz_odd[collatz_map%div != 0] = True\n",
    "        collatz_map[~collatz_odd] /= div\n",
    "        collatz_map[collatz_odd] *= a_map[collatz_odd]\n",
    "        collatz_map[collatz_odd] += b_map[collatz_odd]\n",
    "\n",
    "    # Calculating stage 1\n",
    "    collatz_min1 = collatz_map.copy()\n",
    "    for _ in range(397):\n",
    "        collatz_odd[collatz_map%div == 0] = False\n",
    "        collatz_odd[collatz_map%div != 0] = True\n",
    "        collatz_map[~collatz_odd] /= div\n",
    "        collatz_map[collatz_odd] *= a_map[collatz_odd]\n",
    "        collatz_map[collatz_odd] += b_map[collatz_odd]\n",
    "        collatz_min1 = np.minimum(collatz_min1, collatz_map)\n",
    "\n",
    "    # Calculating stage 2\n",
    "    collatz_min2 = collatz_map.copy() + np.iinfo(np.int32).max\n",
    "    for _ in range(509):\n",
    "        collatz_odd[collatz_map%div == 0] = False\n",
    "        collatz_odd[collatz_map%div != 0] = True\n",
    "        collatz_map[~collatz_odd] /= div\n",
    "        collatz_map[collatz_odd] *= a_map[collatz_odd]\n",
    "        collatz_map[collatz_odd] += b_map[collatz_odd]\n",
    "        collatz_min2 = np.minimum(collatz_min2, collatz_map)\n",
    "\n",
    "    # Eliminating false convergences\n",
    "    collatz_min1[np.logical_or(\n",
    "        collatz_min1>=np.iinfo(np.int32).max, collatz_min1<=np.iinfo(np.int32).min\n",
    "    )] = np.inf\n",
    "\n",
    "    collatz_min2[np.logical_or(\n",
    "        collatz_min2>=np.iinfo(np.int32).max, collatz_min2<=np.iinfo(np.int32).min\n",
    "    )] = np.inf\n",
    "\n",
    "    #Comparing min matrices\n",
    "    collatz_min1[collatz_min1 != collatz_min2] = np.inf\n",
    "\n",
    "    # Collecting min matrices\n",
    "    collatz_mins_collected.append(collatz_min1)\n",
    "collatz_mins_collected = np.array(collatz_mins_collected)\n",
    "\n",
    "for b in range(len(b_range)):\n",
    "    for a in range(len(a_range)):\n",
    "        collset = set(collatz_mins_collected[:, b, a])\n",
    "        if len(collset) == 1:\n",
    "            if np.inf in collset:\n",
    "                collatz_map[b,a] = 0 # no convergence\n",
    "            else:\n",
    "                collatz_map[b,a] = 3 # convergence at unique\n",
    "        else:\n",
    "            if np.inf in collset:\n",
    "                collatz_map[b,a] = 1 # convergence for some\n",
    "            else:\n",
    "                collatz_map[b,a] = 2 # convergence at diff"
   ]
  },
  {
   "cell_type": "code",
   "execution_count": 22,
   "metadata": {
    "scrolled": false,
    "slideshow": {
     "slide_type": "slide"
    }
   },
   "outputs": [
    {
     "data": {
      "image/png": "[encoded data removed]",
      "text/plain": [
       "<Figure size 648x648 with 1 Axes>"
      ]
     },
     "metadata": {
      "needs_background": "light"
     },
     "output_type": "display_data"
    }
   ],
   "source": [
    "collatz_plotter(collatz_map, div)"
   ]
  },
  {
   "cell_type": "code",
   "execution_count": 23,
   "metadata": {
    "scrolled": true,
    "slideshow": {
     "slide_type": "skip"
    }
   },
   "outputs": [
    {
     "name": "stderr",
     "output_type": "stream",
     "text": [
      "/home/daniel/anaconda3/lib/python3.7/site-packages/ipykernel_launcher.py:34: RuntimeWarning: overflow encountered in multiply\n",
      "/home/daniel/anaconda3/lib/python3.7/site-packages/ipykernel_launcher.py:31: RuntimeWarning: invalid value encountered in remainder\n",
      "/home/daniel/anaconda3/lib/python3.7/site-packages/ipykernel_launcher.py:32: RuntimeWarning: invalid value encountered in remainder\n",
      "/home/daniel/anaconda3/lib/python3.7/site-packages/ipykernel_launcher.py:41: RuntimeWarning: invalid value encountered in remainder\n",
      "/home/daniel/anaconda3/lib/python3.7/site-packages/ipykernel_launcher.py:42: RuntimeWarning: invalid value encountered in remainder\n",
      "/home/daniel/anaconda3/lib/python3.7/site-packages/ipykernel_launcher.py:44: RuntimeWarning: overflow encountered in multiply\n"
     ]
    }
   ],
   "source": [
    "# Setting up\n",
    "amax = 32\n",
    "bmax = 32\n",
    "div = 11\n",
    "\n",
    "a_range = np.arange(-amax, amax+1, dtype=object )\n",
    "b_range = np.arange(-bmax, bmax+1, dtype=object )\n",
    "\n",
    "a_map = np.tile(a_range, (len(b_range), 1))\n",
    "b_map = np.tile(b_range, (len(a_range), 1)).transpose()\n",
    "# np.tile(b_range[::-1], (len(a_range), 1)).transpose()\n",
    "\n",
    "n_max = 10\n",
    "\n",
    "collatz_mins_collected = []\n",
    "for n in range(1, n_max+1):\n",
    "    collatz_odd = np.full( (len(b_range), len(a_range)), n%div != 0, dtype=bool)\n",
    "    collatz_map = np.full( (len(b_range), len(a_range)), n, dtype=object )\n",
    "\n",
    "    # Pre-calculating stage\n",
    "    for _ in range(50):\n",
    "        collatz_odd[collatz_map%div == 0] = False\n",
    "        collatz_odd[collatz_map%div != 0] = True\n",
    "        collatz_map[~collatz_odd] /= div\n",
    "        collatz_map[collatz_odd] *= a_map[collatz_odd]\n",
    "        collatz_map[collatz_odd] += b_map[collatz_odd]\n",
    "\n",
    "    # Calculating stage 1\n",
    "    collatz_min1 = collatz_map.copy()\n",
    "    for _ in range(397):\n",
    "        collatz_odd[collatz_map%div == 0] = False\n",
    "        collatz_odd[collatz_map%div != 0] = True\n",
    "        collatz_map[~collatz_odd] /= div\n",
    "        collatz_map[collatz_odd] *= a_map[collatz_odd]\n",
    "        collatz_map[collatz_odd] += b_map[collatz_odd]\n",
    "        collatz_min1 = np.minimum(collatz_min1, collatz_map)\n",
    "\n",
    "    # Calculating stage 2\n",
    "    collatz_min2 = collatz_map.copy() + np.iinfo(np.int32).max\n",
    "    for _ in range(509):\n",
    "        collatz_odd[collatz_map%div == 0] = False\n",
    "        collatz_odd[collatz_map%div != 0] = True\n",
    "        collatz_map[~collatz_odd] /= div\n",
    "        collatz_map[collatz_odd] *= a_map[collatz_odd]\n",
    "        collatz_map[collatz_odd] += b_map[collatz_odd]\n",
    "        collatz_min2 = np.minimum(collatz_min2, collatz_map)\n",
    "\n",
    "    # Eliminating false convergences\n",
    "    collatz_min1[np.logical_or(\n",
    "        collatz_min1>=np.iinfo(np.int32).max, collatz_min1<=np.iinfo(np.int32).min\n",
    "    )] = np.inf\n",
    "\n",
    "    collatz_min2[np.logical_or(\n",
    "        collatz_min2>=np.iinfo(np.int32).max, collatz_min2<=np.iinfo(np.int32).min\n",
    "    )] = np.inf\n",
    "\n",
    "    #Comparing min matrices\n",
    "    collatz_min1[collatz_min1 != collatz_min2] = np.inf\n",
    "\n",
    "    # Collecting min matrices\n",
    "    collatz_mins_collected.append(collatz_min1)\n",
    "collatz_mins_collected = np.array(collatz_mins_collected)\n",
    "\n",
    "for b in range(len(b_range)):\n",
    "    for a in range(len(a_range)):\n",
    "        collset = set(collatz_mins_collected[:, b, a])\n",
    "        if len(collset) == 1:\n",
    "            if np.inf in collset:\n",
    "                collatz_map[b,a] = 0 # no convergence\n",
    "            else:\n",
    "                collatz_map[b,a] = 3 # convergence at unique\n",
    "        else:\n",
    "            if np.inf in collset:\n",
    "                collatz_map[b,a] = 1 # convergence for some\n",
    "            else:\n",
    "                collatz_map[b,a] = 2 # convergence at diff"
   ]
  },
  {
   "cell_type": "code",
   "execution_count": 24,
   "metadata": {
    "scrolled": false,
    "slideshow": {
     "slide_type": "slide"
    }
   },
   "outputs": [
    {
     "data": {
      "image/png": "[encoded data removed]",
      "text/plain": [
       "<Figure size 648x648 with 1 Axes>"
      ]
     },
     "metadata": {
      "needs_background": "light"
     },
     "output_type": "display_data"
    }
   ],
   "source": [
    "collatz_plotter(collatz_map, div)"
   ]
  },
  {
   "cell_type": "markdown",
   "metadata": {
    "slideshow": {
     "slide_type": "slide"
    }
   },
   "source": [
    "# Thank you!\n",
    "\n",
    "Project available at:\n",
    "\n",
    "github.com/danj7/Collatz-Mapper"
   ]
  }
 ],
 "metadata": {
  "kernelspec": {
   "display_name": "Python 3",
   "language": "python",
   "name": "python3"
  },
  "language_info": {
   "codemirror_mode": {
    "name": "ipython",
    "version": 3
   },
   "file_extension": ".py",
   "mimetype": "text/x-python",
   "name": "python",
   "nbconvert_exporter": "python",
   "pygments_lexer": "ipython3",
   "version": "3.7.4"
  }
 },
 "nbformat": 4,
 "nbformat_minor": 2
}
