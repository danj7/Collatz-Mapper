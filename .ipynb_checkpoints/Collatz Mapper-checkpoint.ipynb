{
 "cells": [
  {
   "cell_type": "markdown",
   "metadata": {},
   "source": [
    "# Collatz Map\n",
    "Map of rules that diverge or not, similar to Mandelbrot set.\n",
    "\n",
    "We start from a generalized version: $a n + b$ and divisor $d$\n",
    "\n",
    "New definitions:\n",
    "* An _even_ number is a number that is divisible by divisor $d$. Hence called: _d-even_\n",
    "* An _odd_ number is a number not divisible by divisor $d$. Hence called _d-odd_\n",
    "\n",
    "New rules:\n",
    "* if number is _d-odd_: $n \\leftarrow an+b$\n",
    "* if number is _d-even_: $n \\leftarrow n/d$"
   ]
  },
  {
   "cell_type": "code",
   "execution_count": null,
   "metadata": {},
   "outputs": [],
   "source": [
    "import numpy as np\n",
    "from collatz_map import collatz_mapper, plot_map"
   ]
  },
  {
   "cell_type": "code",
   "execution_count": null,
   "metadata": {},
   "outputs": [],
   "source": [
    "pylab"
   ]
  },
  {
   "cell_type": "code",
   "execution_count": null,
   "metadata": {},
   "outputs": [],
   "source": [
    "qtconsole"
   ]
  },
  {
   "cell_type": "markdown",
   "metadata": {},
   "source": [
    "## Map: number of fixed values:\n",
    "\n",
    "Testing convergence for 100 first integers.\n",
    "* 0 if no convergence\n",
    "* 1 if convergence for some values\n",
    "* 2 if convergence for all but at different values\n",
    "* 3 if convergence for all at same value"
   ]
  },
  {
   "cell_type": "code",
   "execution_count": null,
   "metadata": {
    "scrolled": true
   },
   "outputs": [],
   "source": [
    "amax = 512\n",
    "bmax = 512\n",
    "div = 3\n",
    "nlim = 20"
   ]
  },
  {
   "cell_type": "code",
   "execution_count": null,
   "metadata": {},
   "outputs": [],
   "source": [
    "collatz_map = collatz_mapper(amax, bmax, div, nlim)\n",
    "\n",
    "#Save collatz map to file\n",
    "filename = 'collatz_map_a'+str(amax)+'_b'+str(bmax)+'_div'+str(div)+'.colmap'\n",
    "with open(filename, 'w') as file:\n",
    "    for row in range(2*amax):\n",
    "        for column in range(2*bmax):\n",
    "            file.write(str(collatz_map[row,column])+'\\t')\n",
    "        file.write('\\n')\n",
    "#\n",
    "plot_map(collatz_map, div)"
   ]
  },
  {
   "cell_type": "code",
   "execution_count": null,
   "metadata": {},
   "outputs": [],
   "source": [
    "plot_map(collatz_map, div)"
   ]
  },
  {
   "cell_type": "code",
   "execution_count": null,
   "metadata": {},
   "outputs": [],
   "source": [
    "cd prev_vers/"
   ]
  },
  {
   "cell_type": "code",
   "execution_count": null,
   "metadata": {},
   "outputs": [],
   "source": [
    "ls"
   ]
  },
  {
   "cell_type": "code",
   "execution_count": null,
   "metadata": {},
   "outputs": [],
   "source": [
    "#load Collatz Map\n",
    "filename = 'collatz_mapC_a512b512d2.colmap'\n",
    "collatz_map_new = np.loadtxt(filename)\n",
    "\n",
    "plot_map(collatz_map_new, 2)"
   ]
  },
  {
   "cell_type": "code",
   "execution_count": null,
   "metadata": {},
   "outputs": [],
   "source": [
    "#load Collatz Map by quadrants\n",
    "collatz_map_q1 = np.loadtxt('collatz_mapC_a1024b1024d2_quadrant1.colmap')\n",
    "collatz_map_q2 = np.loadtxt('collatz_mapC_a1024b1024d2_quadrant2.colmap')\n",
    "collatz_map_q3 = np.loadtxt('collatz_mapC_a1024b1024d2_quadrant3.colmap')\n",
    "collatz_map_q4 = np.loadtxt('collatz_mapC_a1024b1024d2_quadrant4.colmap')\n",
    "\n",
    "collatz_map_top = np.hstack((collatz_map_q2, collatz_map_q1))\n",
    "collatz_map_bottom = np.hstack((collatz_map_q3, collatz_map_q4))\n",
    "\n",
    "collatz_map_whole = np.vstack((collatz_map_bottom, collatz_map_top))\n",
    "\n",
    "plot_map(collatz_map_whole, 10)"
   ]
  },
  {
   "cell_type": "code",
   "execution_count": null,
   "metadata": {},
   "outputs": [],
   "source": [
    "plot_map(collatz_map_whole, 10)"
   ]
  },
  {
   "cell_type": "code",
   "execution_count": null,
   "metadata": {},
   "outputs": [],
   "source": [
    "#Save collatz map to file\n",
    "filename = 'collatz_map_a'+str(amax)+'_b'+str(bmax)+'_div'+str(div)+'.colmap'\n",
    "with open(filename, 'w') as file:\n",
    "    for row in range(2*amax):\n",
    "        for column in range(2*bmax):\n",
    "            file.write(str(collatz_map[row,column])+'\\t')"
   ]
  }
 ],
 "metadata": {
  "kernelspec": {
   "display_name": "Python 3",
   "language": "python",
   "name": "python3"
  },
  "language_info": {
   "codemirror_mode": {
    "name": "ipython",
    "version": 3
   },
   "file_extension": ".py",
   "mimetype": "text/x-python",
   "name": "python",
   "nbconvert_exporter": "python",
   "pygments_lexer": "ipython3",
   "version": "3.7.3"
  }
 },
 "nbformat": 4,
 "nbformat_minor": 2
}
