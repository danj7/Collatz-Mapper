{
 "cells": [
  {
   "cell_type": "markdown",
   "metadata": {},
   "source": [
    "# Collatz Map\n",
    "Map of rules that diverge or not, similar to Mandelbrot set.\n",
    "\n",
    "We start from a generalized version: $a n + b$ and divisor $d$\n",
    "\n",
    "New definitions:\n",
    "* An _even_ number is a number that is divisible by divisor $d$. Hence called: _d-even_\n",
    "* An _odd_ number is a number not divisible by divisor $d$. Hence called _d-odd_\n",
    "\n",
    "New rules:\n",
    "* if number is _d-odd_: $n \\leftarrow an+b$\n",
    "* if number is _d-even_: $n \\leftarrow n/d$"
   ]
  },
  {
   "cell_type": "code",
   "execution_count": 1,
   "metadata": {},
   "outputs": [],
   "source": [
    "import numpy as np\n",
    "from collatz_map import collatz_mapper, plot_map"
   ]
  },
  {
   "cell_type": "code",
   "execution_count": 2,
   "metadata": {},
   "outputs": [
    {
     "name": "stdout",
     "output_type": "stream",
     "text": [
      "Using matplotlib backend: Qt5Agg\n",
      "Populating the interactive namespace from numpy and matplotlib\n"
     ]
    }
   ],
   "source": [
    "pylab"
   ]
  },
  {
   "cell_type": "code",
   "execution_count": null,
   "metadata": {},
   "outputs": [],
   "source": [
    "qtconsole"
   ]
  },
  {
   "cell_type": "markdown",
   "metadata": {},
   "source": [
    "## Map: number of fixed values:\n",
    "\n",
    "Testing convergence for 100 first integers.\n",
    "* 0 if no convergence\n",
    "* 1 if convergence for some values\n",
    "* 2 if convergence for all but at different values\n",
    "* 3 if convergence for all at same value"
   ]
  },
  {
   "cell_type": "code",
   "execution_count": 3,
   "metadata": {
    "scrolled": true
   },
   "outputs": [],
   "source": [
    "amax = 1024\n",
    "bmax = 1024\n",
    "div = 2\n",
    "nlim = 100"
   ]
  },
  {
   "cell_type": "code",
   "execution_count": 4,
   "metadata": {},
   "outputs": [],
   "source": [
    "collatz_map = collatz_mapper(amax, bmax, div, nlim)\n",
    "\n",
    "#Save collatz map to file\n",
    "filename = 'collatz_map_a'+str(amax)+'_b'+str(bmax)+'_div'+str(div)+'.colmap'\n",
    "with open(filename, 'w') as file:\n",
    "    for row in range(2*amax):\n",
    "        for column in range(2*bmax):\n",
    "            file.write(str(collatz_map[row,column])+'\\t')\n",
    "        file.write('\\n')\n",
    "#\n",
    "plot_map(collatz_map, div)"
   ]
  },
  {
   "cell_type": "code",
   "execution_count": null,
   "metadata": {},
   "outputs": [],
   "source": [
    "collatz_map"
   ]
  },
  {
   "cell_type": "code",
   "execution_count": 5,
   "metadata": {},
   "outputs": [
    {
     "name": "stdout",
     "output_type": "stream",
     "text": [
      " \u001b[0m\u001b[01;32ma.out\u001b[0m*                                \u001b[01;32mcollatz_map.out\u001b[0m*\r\n",
      " collatz_map_a1024_b1024_div2.colmap   collatz_map.py\r\n",
      " collatz_map_a128_b128_div2.colmap    'Collatz Map (unfinished).ipynb'\r\n",
      " collatz_map_a4_b4_div2.colmap         LICENSE\r\n",
      " collatz_map_a4_b4_div2_new.colmap     \u001b[01;34m__pycache__\u001b[0m/\r\n",
      " collatz_map_a512_b512_div2.colmap     README.md\r\n",
      " collatz_map.c                         test.c\r\n",
      " collatz_mapC_a4b4d2.colmap            test.dat\r\n"
     ]
    }
   ],
   "source": [
    "ls"
   ]
  },
  {
   "cell_type": "code",
   "execution_count": 8,
   "metadata": {},
   "outputs": [],
   "source": [
    "#load Collatz Map\n",
    "filename = 'collatz_map_a4_b4_div2_new.colmap'\n",
    "collatz_map_new = np.loadtxt(filename)"
   ]
  },
  {
   "cell_type": "code",
   "execution_count": 9,
   "metadata": {},
   "outputs": [],
   "source": [
    "plot_map(collatz_map_new, div+10)"
   ]
  },
  {
   "cell_type": "code",
   "execution_count": null,
   "metadata": {},
   "outputs": [],
   "source": []
  }
 ],
 "metadata": {
  "kernelspec": {
   "display_name": "Python 3",
   "language": "python",
   "name": "python3"
  },
  "language_info": {
   "codemirror_mode": {
    "name": "ipython",
    "version": 3
   },
   "file_extension": ".py",
   "mimetype": "text/x-python",
   "name": "python",
   "nbconvert_exporter": "python",
   "pygments_lexer": "ipython3",
   "version": "3.7.3"
  }
 },
 "nbformat": 4,
 "nbformat_minor": 2
}
