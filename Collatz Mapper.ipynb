{
 "cells": [
  {
   "cell_type": "markdown",
   "metadata": {},
   "source": [
    "# Collatz Mapper\n",
    "\n",
    "The idea is to make a particular visual representation of the [Collatz Conjecture](https://en.wikipedia.org/wiki/Collatz_conjecture \"Collatz Conjecture\") where we consider a generalized version of the conjecture: $a n + b$ and divisor $d$.\n",
    "\n",
    "To do this, we implement some simple modified definitions:\n",
    "* A _d-even_ number is a number that is divisible by $d$\n",
    "* A _d-odd_ number is a number not divisible by $d$\n",
    "\n",
    "which lead to a slightly modified set of rules:\n",
    "* if number is _d-odd_: $n \\leftarrow an+b$\n",
    "* if number is _d-even_: $n \\leftarrow n/d$"
   ]
  },
  {
   "cell_type": "markdown",
   "metadata": {},
   "source": [
    "First, Numpy is loaded and some useful functions are loaded from the file `collatz_map.py`."
   ]
  },
  {
   "cell_type": "markdown",
   "metadata": {},
   "source": [
    "```flow\n",
    "st=>start: Start\n",
    "op=>operation: Your Operation\n",
    "cond=>condition: Yes or No?\n",
    "e=>end\n",
    "\n",
    "st->op->cond\n",
    "cond(yes)->e\n",
    "cond(no)->op\n",
    "```"
   ]
  },
  {
   "cell_type": "code",
   "execution_count": 1,
   "metadata": {},
   "outputs": [],
   "source": [
    "import numpy as np\n",
    "from collatz import collatz_mapper, plot_map"
   ]
  },
  {
   "cell_type": "code",
   "execution_count": 41,
   "metadata": {},
   "outputs": [],
   "source": [
    "import matplotlib.image as mpimg\n",
    "import matplotlib.pyplot as plt"
   ]
  },
  {
   "cell_type": "code",
   "execution_count": null,
   "metadata": {},
   "outputs": [],
   "source": [
    "fig = plt.figure(1)\n",
    "img = mpimg.imread(path)\n",
    "plt.imshow(img)\n",
    "ax=fig.add_subplot(1,1,1)\n",
    "\n",
    "extent = ax.get_window_extent().transformed(fig.dpi_scale_trans.inverted())\n",
    "plt.savefig('1.png', bbox_inches=extent)\n",
    "\n",
    "plt.axis('off') \n",
    "plt.show()"
   ]
  },
  {
   "cell_type": "code",
   "execution_count": 42,
   "metadata": {},
   "outputs": [],
   "source": [
    "plt.imshow?"
   ]
  },
  {
   "cell_type": "code",
   "execution_count": 2,
   "metadata": {
    "scrolled": true
   },
   "outputs": [
    {
     "name": "stdout",
     "output_type": "stream",
     "text": [
      "Using matplotlib backend: Qt5Agg\n",
      "Populating the interactive namespace from numpy and matplotlib\n"
     ]
    }
   ],
   "source": [
    "pylab"
   ]
  },
  {
   "cell_type": "code",
   "execution_count": 57,
   "metadata": {},
   "outputs": [],
   "source": [
    "qtconsole"
   ]
  },
  {
   "cell_type": "markdown",
   "metadata": {},
   "source": [
    "## Map: number of fixed values:\n",
    "\n",
    "Testing convergence for 100 first integers.\n",
    "* 0 if no convergence\n",
    "* 1 if convergence for some values\n",
    "* 2 if convergence for all but at different values\n",
    "* 3 if convergence for all at same value"
   ]
  },
  {
   "cell_type": "code",
   "execution_count": null,
   "metadata": {
    "scrolled": true
   },
   "outputs": [],
   "source": [
    "amax = 512\n",
    "bmax = 512\n",
    "div = 3\n",
    "nlim = 20"
   ]
  },
  {
   "cell_type": "code",
   "execution_count": null,
   "metadata": {},
   "outputs": [],
   "source": [
    "collatz_map = collatz_mapper(amax, bmax, div, nlim)\n",
    "\n",
    "#Save collatz map to file\n",
    "filename = 'collatz_map_a'+str(amax)+'_b'+str(bmax)+'_div'+str(div)+'.colmap'\n",
    "with open(filename, 'w') as file:\n",
    "    for row in range(2*amax):\n",
    "        for column in range(2*bmax):\n",
    "            file.write(str(collatz_map[row,column])+'\\t')\n",
    "        file.write('\\n')\n",
    "#\n",
    "plot_map(collatz_map, div)"
   ]
  },
  {
   "cell_type": "code",
   "execution_count": null,
   "metadata": {},
   "outputs": [],
   "source": [
    "plot_map(collatz_map, div)"
   ]
  },
  {
   "cell_type": "markdown",
   "metadata": {},
   "source": [
    "## Load a map"
   ]
  },
  {
   "cell_type": "code",
   "execution_count": 3,
   "metadata": {},
   "outputs": [
    {
     "name": "stdout",
     "output_type": "stream",
     "text": [
      "/home/daniel/Documents/collatz/Collatz-Mapper/prev_vers\n"
     ]
    }
   ],
   "source": [
    "cd prev_vers/"
   ]
  },
  {
   "cell_type": "code",
   "execution_count": 43,
   "metadata": {},
   "outputs": [
    {
     "name": "stdout",
     "output_type": "stream",
     "text": [
      "cm_quad1.colmap                    collatz_mapC_a1024b1024d2_quadrant1.colmap\r\n",
      "\u001b[0m\u001b[01;32mcm_quad1.out\u001b[0m*                      collatz_mapC_a1024b1024d2_quadrant2.colmap\r\n",
      "cm_quad2.colmap                    collatz_mapC_a1024b1024d2_quadrant3.colmap\r\n",
      "\u001b[01;32mcm_quad2.out\u001b[0m*                      collatz_mapC_a1024b1024d2_quadrant4.colmap\r\n",
      "cm_quad3.colmap                    collatz_mapC_a1024b1024div2.colmap\r\n",
      "\u001b[01;32mcm_quad3.out\u001b[0m*                      collatz_mapC_a1024b1024div3.colmap\r\n",
      "cm_quad4.colmap                    collatz_mapC_a1024b1024div4.colmap\r\n",
      "\u001b[01;32mcm_quad4.out\u001b[0m*                      collatz_mapC_a1024b1024div5.colmap\r\n",
      "collatz_map_1024x1024_lld.c        collatz_mapC_a1024b1024div6.colmap\r\n",
      "\u001b[01;32mcollatz_map_1024x1024_lld.out\u001b[0m*     collatz_mapC_a1024b1024div7.colmap\r\n",
      "collatz_map_1024x1024_quadrant1.c  collatz_mapC_a16b16d2.colmap\r\n",
      "collatz_map_1024x1024_quadrant2.c  collatz_mapC_a4b4d2.colmap\r\n",
      "collatz_map_1024x1024_quadrant3.c  collatz_mapC_a512b512d2.colmap\r\n",
      "collatz_map_1024x1024_quadrant4.c  collatz_map_lld_a1024b1024d7.colmap\r\n",
      "collatz_map.c                      \u001b[01;32mcollatz_map.out\u001b[0m*\r\n"
     ]
    }
   ],
   "source": [
    "ls"
   ]
  },
  {
   "cell_type": "code",
   "execution_count": 59,
   "metadata": {},
   "outputs": [
    {
     "name": "stdout",
     "output_type": "stream",
     "text": [
      "(32, 16)\n"
     ]
    }
   ],
   "source": [
    "#load Collatz Map\n",
    "collatz_map_lld = np.loadtxt('collatz_map_lld_a16b8d2.colmap')\n",
    "print(collatz_map_lld.shape)"
   ]
  },
  {
   "cell_type": "code",
   "execution_count": 60,
   "metadata": {},
   "outputs": [],
   "source": [
    "plot_map(collatz_map_lld, 2)"
   ]
  },
  {
   "cell_type": "code",
   "execution_count": null,
   "metadata": {},
   "outputs": [],
   "source": []
  },
  {
   "cell_type": "code",
   "execution_count": 35,
   "metadata": {},
   "outputs": [],
   "source": [
    "#load Collatz Map by quadrants\n",
    "collatz_map_q1 = np.loadtxt('cm_quad1.colmap')#.reshape((1024,1024))\n",
    "collatz_map_q2 = np.loadtxt('cm_quad2.colmap')#.reshape((1024,1024))\n",
    "collatz_map_q3 = np.loadtxt('cm_quad3.colmap')#.reshape((1024,1024))\n",
    "collatz_map_q4 = np.loadtxt('cm_quad4.colmap')#.reshape((1024,1024))"
   ]
  },
  {
   "cell_type": "code",
   "execution_count": 36,
   "metadata": {},
   "outputs": [],
   "source": [
    "collatz_map_top = np.hstack((collatz_map_q2, collatz_map_q1))\n",
    "collatz_map_bottom = np.hstack((collatz_map_q3, collatz_map_q4))\n",
    "\n",
    "collatz_map_whole = np.vstack((collatz_map_bottom, collatz_map_top))\n",
    "\n",
    "plot_map(collatz_map_whole, 7)"
   ]
  },
  {
   "cell_type": "code",
   "execution_count": 37,
   "metadata": {},
   "outputs": [
    {
     "data": {
      "text/plain": [
       "(2048, 2048)"
      ]
     },
     "execution_count": 37,
     "metadata": {},
     "output_type": "execute_result"
    }
   ],
   "source": [
    "collatz_map_whole.shape"
   ]
  },
  {
   "cell_type": "code",
   "execution_count": 38,
   "metadata": {},
   "outputs": [],
   "source": [
    "#Save collatz map to file\n",
    "filename = 'collatz_mapC_a1024b1024div7.colmap'\n",
    "with open(filename, 'w') as file:\n",
    "    for row in range(collatz_map_whole.shape[0]):\n",
    "        for column in range(collatz_map_whole.shape[1]):\n",
    "            file.write(str(collatz_map_whole[row,column])+'\\t')"
   ]
  },
  {
   "cell_type": "code",
   "execution_count": null,
   "metadata": {},
   "outputs": [],
   "source": []
  }
 ],
 "metadata": {
  "kernelspec": {
   "display_name": "Python 3",
   "language": "python",
   "name": "python3"
  },
  "language_info": {
   "codemirror_mode": {
    "name": "ipython",
    "version": 3
   },
   "file_extension": ".py",
   "mimetype": "text/x-python",
   "name": "python",
   "nbconvert_exporter": "python",
   "pygments_lexer": "ipython3",
   "version": "3.7.3"
  }
 },
 "nbformat": 4,
 "nbformat_minor": 2
}
