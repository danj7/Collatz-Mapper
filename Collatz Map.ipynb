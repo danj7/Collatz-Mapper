{
 "cells": [
  {
   "cell_type": "markdown",
   "metadata": {},
   "source": [
    "# Collatz Map\n",
    "Map of rules that diverge or not, similar to Mandelbrot set.\n",
    "\n",
    "We start from a generalized version: $a n + b$ and divisor $d$\n",
    "\n",
    "New definitions:\n",
    "* An _even_ number is a number that is divisible by divisor $d$. Hence called: _d-even_\n",
    "* An _odd_ number is a number not divisible by divisor $d$. Hence called _d-odd_\n",
    "\n",
    "New rules:\n",
    "* if number is _d-odd_: $n \\leftarrow an+b$\n",
    "* if number is _d-even_: $n \\leftarrow n/d$"
   ]
  },
  {
   "cell_type": "code",
   "execution_count": 1,
   "metadata": {},
   "outputs": [],
   "source": [
    "import numpy as np\n",
    "import matplotlib.pyplot as plt"
   ]
  },
  {
   "cell_type": "code",
   "execution_count": 2,
   "metadata": {},
   "outputs": [
    {
     "name": "stdout",
     "output_type": "stream",
     "text": [
      "Using matplotlib backend: Qt5Agg\n",
      "Populating the interactive namespace from numpy and matplotlib\n"
     ]
    }
   ],
   "source": [
    "pylab"
   ]
  },
  {
   "cell_type": "code",
   "execution_count": null,
   "metadata": {},
   "outputs": [],
   "source": [
    "qtconsole"
   ]
  },
  {
   "cell_type": "code",
   "execution_count": null,
   "metadata": {},
   "outputs": [],
   "source": [
    "a_range = range(0, 4)\n",
    "b_range = range(-2,2)\n",
    "d = 2\n",
    "\n",
    "atest = -3\n",
    "btest = 1\n",
    "\n",
    "collatz_map = np.zeros((len(b_range), len(a_range)))\n",
    "\n",
    "n_currs = range(2,5)\n",
    "n_min_init = 999999 #initialization value for n_min, so that it is bigger than n_curr\n",
    "max_steps = 200 #maximum steps in collatz sequence to check for convergence\n",
    "escape_value = np.pi #value given to list of fixed points if number of steps exceded.\n",
    "\n",
    "for a in a_range:\n",
    "    for b in b_range:\n",
    "        min_fix = []\n",
    "        for n_curr in n_currs:\n",
    "            print('n_curr=',n_curr)\n",
    "            step = 1\n",
    "            n_min = n_curr + n_min_init\n",
    "            escaped = False\n",
    "            while n_min != n_curr:\n",
    "                #print('step:',step,'n_min:', n_min, 'n_curr:', n_curr)\n",
    "                n_min = min(n_min, n_curr)\n",
    "                if n_curr%d == 0:\n",
    "                    n_curr = n_curr // d\n",
    "                else:\n",
    "                    n_curr = atest*n_curr + btest\n",
    "                step += 1\n",
    "                if step> max_steps:\n",
    "                    escaped = True\n",
    "                    break\n",
    "            if escaped:\n",
    "                print('escaped')\n",
    "                min_fix.append(escape_value)\n",
    "                escaped = False\n",
    "            else:\n",
    "                print('converged at n_min=',n_min)\n",
    "                min_fix.append(n_min)\n",
    "        #adding point to map\n",
    "        min_fix_setlist = list(set(min_fix))\n",
    "        #print('min_fix_setlist=',min_fix_setlist)\n",
    "        if np.pi in min_fix_setlist:\n",
    "            if [np.pi]==min_fix_setlist:\n",
    "                collatz_map[b + len(b_range)//2, a] = 0\n",
    "            else:\n",
    "                collatz_map[b + len(b_range)//2, a] = 1\n",
    "        else:\n",
    "            if len(min_fix_setlist) == 1:\n",
    "                collatz_map[b + len(b_range)//2, a] = 3\n",
    "            else:\n",
    "                collatz_map[b + len(b_range)//2, a] = 2\n",
    "        #print(collatz_map)\n",
    "print(collatz_map)\n",
    "#\n",
    "#plt.figure(d)\n",
    "#plt.clf()\n",
    "#plt.imshow(collatz_map, cmap='plasma')\n",
    "#plt.title('divisor = '+str(d))\n",
    "\n",
    "#plt.xticks(a_range)\n",
    "#yticks = np.array(b_range) + len(b_range)//2\n",
    "#plt.yticks([yticks[0], 0, yticks[-1]])#, list(b_range))"
   ]
  },
  {
   "cell_type": "markdown",
   "metadata": {},
   "source": [
    "## Map: number of fixed values:\n",
    "\n",
    "Testing convergence for 100 first integers.\n",
    "* 0 if no convergence\n",
    "* 1 if convergence for some values\n",
    "* 2 if convergence for all but at different values\n",
    "* 3 if convergence for all at same value"
   ]
  },
  {
   "cell_type": "code",
   "execution_count": 33,
   "metadata": {
    "scrolled": true
   },
   "outputs": [
    {
     "data": {
      "text/plain": [
       "Text(0.5, 1.0, 'divisor = 2')"
      ]
     },
     "execution_count": 33,
     "metadata": {},
     "output_type": "execute_result"
    }
   ],
   "source": [
    "a_range = range(-100, 100)\n",
    "b_range = range(-100,100)\n",
    "d = 2\n",
    "\n",
    "collatz_map = np.zeros((len(b_range), len(a_range)))\n",
    "\n",
    "n_currs = range(1,21)\n",
    "n_min_init = 999999 #initialization value for n_min, so that it is bigger than n_curr\n",
    "max_steps = 200 #maximum steps in collatz sequence to check for convergence\n",
    "escape_value = np.pi #value given to list of fixed points if number of steps exceded.\n",
    "\n",
    "for a in a_range:\n",
    "    for b in b_range:\n",
    "        min_fix = []\n",
    "        for n_curr in n_currs:\n",
    "            step = 1\n",
    "            n_min = n_curr + n_min_init\n",
    "            escaped = False\n",
    "            while n_min != n_curr:\n",
    "                #print('step:',step,'n_min:', n_min, 'n_curr:', n_curr)\n",
    "                n_min = min(n_min, n_curr)\n",
    "                if n_curr%d == 0:\n",
    "                    n_curr = n_curr // d\n",
    "                else:\n",
    "                    n_curr = a*n_curr + b\n",
    "                step += 1\n",
    "                if step> max_steps:\n",
    "                    escaped = True\n",
    "                    break\n",
    "            if escaped:\n",
    "                min_fix.append(escape_value)\n",
    "                escaped = False\n",
    "            else:\n",
    "                min_fix.append(n_min)\n",
    "        #adding point to map\n",
    "        min_fix_setlist = list(set(min_fix))\n",
    "        #print('min_fix_setlist=',min_fix_setlist)\n",
    "        if np.pi in min_fix_setlist:\n",
    "            if [np.pi]==min_fix_setlist:\n",
    "                collatz_map[b + abs(b_range[0]), a + abs(a_range[0])] = 0\n",
    "            else:\n",
    "                collatz_map[b + abs(b_range[0]), a + abs(a_range[0])] = 1\n",
    "        else:\n",
    "            if len(min_fix_setlist) == 1:\n",
    "                collatz_map[b + abs(b_range[0]), a + abs(a_range[0])] = 3\n",
    "            else:\n",
    "                collatz_map[b + abs(b_range[0]), a + abs(a_range[0])] = 2\n",
    "#\n",
    "plt.figure(d)\n",
    "plt.clf()\n",
    "plt.imshow(collatz_map, cmap='inferno')\n",
    "plt.title('divisor = '+str(d))"
   ]
  },
  {
   "cell_type": "code",
   "execution_count": 39,
   "metadata": {},
   "outputs": [
    {
     "data": {
      "text/plain": [
       "Text(0.5, 1.0, 'divisor = 2')"
      ]
     },
     "execution_count": 39,
     "metadata": {},
     "output_type": "execute_result"
    }
   ],
   "source": [
    "plt.figure(d)\n",
    "plt.clf()\n",
    "plt.imshow(collatz_map, cmap='inferno')\n",
    "plt.title('divisor = '+str(d))"
   ]
  },
  {
   "cell_type": "code",
   "execution_count": null,
   "metadata": {},
   "outputs": [],
   "source": [
    "print('max:', collatz_map.max())\n",
    "print('min:', collatz_map.min())\n",
    "print('set:', np.unique(collatz_map))"
   ]
  },
  {
   "cell_type": "code",
   "execution_count": null,
   "metadata": {},
   "outputs": [],
   "source": [
    "list(collatz_map[:,0])"
   ]
  },
  {
   "cell_type": "code",
   "execution_count": null,
   "metadata": {},
   "outputs": [],
   "source": []
  },
  {
   "cell_type": "code",
   "execution_count": null,
   "metadata": {},
   "outputs": [],
   "source": []
  },
  {
   "cell_type": "code",
   "execution_count": null,
   "metadata": {},
   "outputs": [],
   "source": []
  },
  {
   "cell_type": "code",
   "execution_count": null,
   "metadata": {},
   "outputs": [],
   "source": []
  },
  {
   "cell_type": "code",
   "execution_count": null,
   "metadata": {},
   "outputs": [],
   "source": []
  },
  {
   "cell_type": "code",
   "execution_count": null,
   "metadata": {},
   "outputs": [],
   "source": []
  },
  {
   "cell_type": "code",
   "execution_count": null,
   "metadata": {},
   "outputs": [],
   "source": []
  },
  {
   "cell_type": "code",
   "execution_count": null,
   "metadata": {},
   "outputs": [],
   "source": []
  },
  {
   "cell_type": "code",
   "execution_count": null,
   "metadata": {},
   "outputs": [],
   "source": []
  },
  {
   "cell_type": "code",
   "execution_count": null,
   "metadata": {},
   "outputs": [],
   "source": []
  },
  {
   "cell_type": "code",
   "execution_count": 8,
   "metadata": {},
   "outputs": [
    {
     "data": {
      "text/plain": [
       "<matplotlib.image.AxesImage at 0x7f6cb83f87b8>"
      ]
     },
     "execution_count": 8,
     "metadata": {},
     "output_type": "execute_result"
    }
   ],
   "source": [
    "test1 = np.array([[0,1,2], [0,1,2]])\n",
    "plt.figure(2)\n",
    "plt.clf()\n",
    "plt.imshow(test1 + test1.min(), cmap='plasma')"
   ]
  },
  {
   "cell_type": "code",
   "execution_count": null,
   "metadata": {},
   "outputs": [],
   "source": [
    "test2 = np.array([[0, 50, 1000], [0, 50, 100], [0, 0, 100]])\n",
    "plt.figure(3)\n",
    "plt.clf()\n",
    "plt.imshow(test2)"
   ]
  },
  {
   "cell_type": "code",
   "execution_count": null,
   "metadata": {},
   "outputs": [],
   "source": []
  }
 ],
 "metadata": {
  "kernelspec": {
   "display_name": "Python 3",
   "language": "python",
   "name": "python3"
  },
  "language_info": {
   "codemirror_mode": {
    "name": "ipython",
    "version": 3
   },
   "file_extension": ".py",
   "mimetype": "text/x-python",
   "name": "python",
   "nbconvert_exporter": "python",
   "pygments_lexer": "ipython3",
   "version": "3.7.3"
  }
 },
 "nbformat": 4,
 "nbformat_minor": 2
}
